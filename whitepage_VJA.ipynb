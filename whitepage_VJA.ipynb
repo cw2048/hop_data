{
 "cells": [
  {
   "attachments": {},
   "cell_type": "markdown",
   "id": "a64753bc",
   "metadata": {},
   "source": [
    "#### Background\n",
    "Circadian clocks maintain temporal synchronization of behavior and physiology for all organisms, from cyanobacteria to vertebrates (Dunlap et al., 2004; Foster and Kreitzman, 2005). Light is one of the strongest zeitgebers, or external synchronizing cues, of endogenous circadian rhythms across taxa (Bradshaw and Holzapfel, 2007; Roenneberg and Foster, 1997), and circadian oscillators exist in all vertebrate cells regulating basic biological processes such as sleep–wake cycles, body temperature, hormone secretion, cardiovascular systems, and metabolism with the natural patterns of sunlight (Crnko et al., 2019; Hastings et al., 2007; Kumar, 2017).  The invention of artificial light, however, has disrupted natural photoperiodic cues used to entrain these rhythms and has led to consequences for humans and wildlife alike (Gaston et al., 2014; Rich and Longcore, 2006). It is now well documented that exposure to artificial light at night (ALAN) alters behavior, endocrine pathways (Ouyang et al., 2018; Russart and Nelson, 2018), metabolism (Fonken and Nelson, 2014), cardiovascular function (Chellappa et al., 2017; Mosendane et al., 2008), and leads to pathology (Choi et al., 2015; Navara and Nelson, 2007).  Still, it remains unclear whether the mechanism underlying downstream effects are related to circadian rhythm regulation.  Does ALAN alter behavior and physiology and cause long-term pathology through circadian rhythm misalignment, or act on behavior and physiology directly?  To effectively mitigate the effects of light pollution, it is important to understand the mechanisms by which exposure to dim, environmentally relevant levels of night-light affect behavior and physiology in diurnal organisms. \n",
    "\n",
    "\n",
    "Birds are a useful diurnal model for answering this question, as the neuroendocrine pathways that transduce light information from sensory systems to downstream processes have been well described and are conserved across vertebrates. In birds, light stimulates non-visual photoreceptors (opsins) in the retina, the pineal gland, and suprachiasmatic nuclei (SCN) of the hypothalamus (Gwinner et al., 1971; Kumar, 2015). Stimulation by light results in the expression of pacemaker genes Clock (Clk) and Brain and muscle Arnt-like protein-1 (Bmal1), which thereafter induces expression of Period (Per) and Cryptochrome (Cry), creating an autoregulatory feedback loop where expression of each gene oscillates in a unique 24-hour rhythm (Cassone, 2014; Helfer et al., 2006). This central clock in the brain entrains circadian oscillators in peripheral tissues, such as the liver and heart, and affects downstream physiology and behavior by regulating the synthesis and release of melatonin (Cassone, 2014; Yoshimura et al., 2000). \n",
    "\n",
    "\n",
    "In this study we link expression of key pacemaker genes (Clk, Cry1, Per1, Per2) in central (brain) and peripheral (liver) clocks and an endocrinal mediator (melatonin), with the behavioral (activity) responses to ALAN. We predict that individuals exposed to ALAN for 10 days will have disrupted circadian rhythms of activity, circadian gene expression and plasma melatonin compared to controls. \n",
    "\n",
    "#### Data collection\n",
    "All procedures were carried out in accordance with National Institute of Health guidelines and were approved by the University of Nevada, Reno Institutional Animal Care and Use Committee. Twenty-four zebra finches were housed in individual cages and habituated to 10L:14D photoperiod for 4 weeks. Daylights turned on at 07:00 and turned off at 17:00 and were provided by a circular 1.4-Watt 5000K LED aluminum fixture rated at 95 Lumens. Night lights turned on at 17:00 and turned off at 07:00 and were provided by a 20cm X 1.5cm 5000K LED strip and standardized at 1.5 lux ±0.01 using an Extech Easyview Digital Light Meter (model EA13).\n",
    "Active perches within each cage recorded movement on/off of the perch constantly, which is a reliable measure of circadian activity (Astheimer et al., 1992; Daan and Aschoff, 1975; Ganshirt et al., 1984). The perch activity was recorded on a Dell Precision 5810 Tower with an Intel® Xeon® Processor (E5-1620 v3) at 3.5GHz, and an AMD FirePro™ W4100 graphics card. A graphical user interface (GUI) was created in MATLAB to both record and display the activity of the birds via the active perches. The active perches were connected to an optical end-stop so that the downward force of the bird caused the wooden perch to shift down, thus blocking the signal between the emitter and the receiver on the end-stop.  Upon hopping off, the active perch returns to its neutral position. Each end-stop sent a 1 or 0 to the computer depending on whether the bird was on or off the active perch, respectively.  The perch activity via the end-stop was recorded through the use of four separate Arduino Mega 2560 units, each responsible for six cages. Data for all of the active perches were collected every 0.23 seconds (approximately), and totaled for every minute of activity. \n",
    "\n",
    "\n",
    "Data from each day is output into a text file, resulting in one text file per day of experiment.  Activity per minute is recorded in a list format organized in 24 rows of 60 columns (rows corresponding to hours and columns corresponding to minutes). Data for each cage is separeated by a blank line. "
   ]
  },
  {
   "cell_type": "code",
   "execution_count": null,
   "id": "23b7caea",
   "metadata": {},
   "outputs": [],
   "source": [
    "file.head()"
   ]
  },
  {
   "cell_type": "code",
   "execution_count": 1,
   "id": "a2672072",
   "metadata": {},
   "outputs": [
    {
     "ename": "SyntaxError",
     "evalue": "invalid syntax (2696229493.py, line 1)",
     "output_type": "error",
     "traceback": [
      "\u001b[0;36m  File \u001b[0;32m\"/var/folders/33/fyjdbtnj4hx64vhzr5fc84gh0000gn/T/ipykernel_26005/2696229493.py\"\u001b[0;36m, line \u001b[0;32m1\u001b[0m\n\u001b[0;31m    In order to\u001b[0m\n\u001b[0m       ^\u001b[0m\n\u001b[0;31mSyntaxError\u001b[0m\u001b[0;31m:\u001b[0m invalid syntax\n"
     ]
    }
   ],
   "source": [
    "In order to "
   ]
  },
  {
   "cell_type": "code",
   "execution_count": null,
   "id": "545b3fc7",
   "metadata": {},
   "outputs": [],
   "source": []
  }
 ],
 "metadata": {
  "kernelspec": {
   "display_name": "Python 3 (ipykernel)",
   "language": "python",
   "name": "python3"
  },
  "language_info": {
   "codemirror_mode": {
    "name": "ipython",
    "version": 3
   },
   "file_extension": ".py",
   "mimetype": "text/x-python",
   "name": "python",
   "nbconvert_exporter": "python",
   "pygments_lexer": "ipython3",
   "version": "3.8.8"
  }
 },
 "nbformat": 4,
 "nbformat_minor": 5
}
